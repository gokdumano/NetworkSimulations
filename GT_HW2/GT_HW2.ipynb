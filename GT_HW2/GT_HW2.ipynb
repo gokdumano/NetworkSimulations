{
 "cells": [
  {
   "cell_type": "code",
   "execution_count": 1,
   "id": "98dd4f93",
   "metadata": {},
   "outputs": [
    {
     "name": "stdout",
     "output_type": "stream",
     "text": [
      "3.9.7 | packaged by conda-forge | (default, Sep 29 2021, 19:15:42) [MSC v.1916 64 bit (AMD64)]\n"
     ]
    }
   ],
   "source": [
    "from itertools import repeat, product\n",
    "from sys import version\n",
    "print(version)\n",
    "\n",
    "def read(fname):\n",
    "    from scipy.io import loadmat\n",
    "    file = loadmat(fname)\n",
    "    arr  = file['A']\n",
    "    return arr\n",
    "\n",
    "def AdjDecomposition(adj):\n",
    "    num, _ = adj.shape\n",
    "    nodes  = {*range(num)}\n",
    "    edges  = {(u, v, adj[u, v]) for u, v in product(nodes, repeat=2) if adj[u, v] != 0}\n",
    "    return {'nodes':nodes, 'edges':edges}"
   ]
  },
  {
   "cell_type": "code",
   "execution_count": 4,
   "id": "54b5412b",
   "metadata": {},
   "outputs": [
    {
     "data": {
      "text/plain": [
       "array([[ 0,  1,  2,  0,  0,  0],\n",
       "       [ 0,  0,  0,  4,  0,  0],\n",
       "       [ 0,  0,  0,  0,  0,  3],\n",
       "       [ 0,  0,  0,  0,  3,  1],\n",
       "       [ 0,  0,  0,  0,  0, -1],\n",
       "       [ 0, -2,  0,  0,  0,  0]], dtype=int16)"
      ]
     },
     "execution_count": 4,
     "metadata": {},
     "output_type": "execute_result"
    }
   ],
   "source": [
    "adj"
   ]
  },
  {
   "cell_type": "markdown",
   "id": "f54392f6",
   "metadata": {},
   "source": [
    "**1. Bellman-Ford shortest path algorithm [20%]**"
   ]
  },
  {
   "cell_type": "code",
   "execution_count": 3,
   "id": "13c171c0",
   "metadata": {},
   "outputs": [
    {
     "data": {
      "text/plain": [
       "([inf, -3, inf, 1, 0, -1], [None, 5, None, 1, None, 4])"
      ]
     },
     "execution_count": 3,
     "metadata": {},
     "output_type": "execute_result"
    }
   ],
   "source": [
    "def BellmanFordAlgo(adj, s):\n",
    "    # https://www.baeldung.com/cs/bellman-ford\n",
    "    nodes, edges = AdjDecomposition(adj).values()\n",
    "    inf, num     = float('Inf'), len(nodes)\n",
    "    assert s in nodes, f'The graph does not have the source node `{s}`'\n",
    "    \n",
    "    # Step 1: initialize graph\n",
    "    dist    = [inf ] * num\n",
    "    prev    = [None] * num    \n",
    "    dist[s] = 0\n",
    "    \n",
    "    # Step 2: relax edges repeatedly\n",
    "    for _ in repeat(None, num - 1):\n",
    "        for (u, v, w) in edges:\n",
    "            if dist[v] > dist[u] + w:\n",
    "                dist[v] = dist[u] + w\n",
    "                prev[v] = u\n",
    "                \n",
    "    # Step 3: check for negative-weight cycles\n",
    "    for (u, v, w) in edges:\n",
    "        if dist[v] > dist[u] + w:\n",
    "            raise ValueError('Graph contains a negative-weight cycle')\n",
    "           \n",
    "    return dist, prev\n",
    "\n",
    "adj = read('Exercise_1_data/adjacencyMatrix.mat')\n",
    "BellmanFordAlgo(adj, 4)"
   ]
  },
  {
   "cell_type": "markdown",
   "id": "4996b395",
   "metadata": {},
   "source": [
    "**2. Global effciency, diffusion effciency and graph morphospace [40%]**"
   ]
  },
  {
   "cell_type": "code",
   "execution_count": 15,
   "id": "68c2e993",
   "metadata": {},
   "outputs": [],
   "source": [
    "def globalEffciency(adj):\n",
    "    nodes, edges = AdjDecomposition(adj).values()\n",
    "    N     = len(nodes)\n",
    "    L_    = N * (N - 1) / sum([1 / w for (u, v, w) in edges if u != v])\n",
    "    Eglob = 1 / L_\n",
    "    return Eglob\n",
    "\n",
    "def diffusionEffciency(adj):\n",
    "    "
   ]
  },
  {
   "cell_type": "code",
   "execution_count": 16,
   "id": "936bd611",
   "metadata": {},
   "outputs": [
    {
     "data": {
      "text/plain": [
       "0.06388888888888888"
      ]
     },
     "execution_count": 16,
     "metadata": {},
     "output_type": "execute_result"
    }
   ],
   "source": [
    "globalEffciency(adj)"
   ]
  },
  {
   "cell_type": "code",
   "execution_count": 11,
   "id": "266d02b5",
   "metadata": {},
   "outputs": [
    {
     "data": {
      "text/plain": [
       "0"
      ]
     },
     "execution_count": 11,
     "metadata": {},
     "output_type": "execute_result"
    }
   ],
   "source": [
    "sum([])"
   ]
  },
  {
   "cell_type": "code",
   "execution_count": null,
   "id": "b1debc7d",
   "metadata": {},
   "outputs": [],
   "source": []
  }
 ],
 "metadata": {
  "kernelspec": {
   "display_name": "Python 3 (ipykernel)",
   "language": "python",
   "name": "python3"
  },
  "language_info": {
   "codemirror_mode": {
    "name": "ipython",
    "version": 3
   },
   "file_extension": ".py",
   "mimetype": "text/x-python",
   "name": "python",
   "nbconvert_exporter": "python",
   "pygments_lexer": "ipython3",
   "version": "3.9.7"
  }
 },
 "nbformat": 4,
 "nbformat_minor": 5
}
