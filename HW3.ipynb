{
 "cells": [
  {
   "cell_type": "markdown",
   "metadata": {},
   "source": [
    "https://en.wikipedia.org/wiki/Girvan%E2%80%93Newman_algorithm\n",
    "https://www.cs.cmu.edu/~ckingsf/bioinfo-lectures/modularity.pdf\n",
    "http://www.kazemjahanbakhsh.com/codes/cmty.html\n",
    "https://orbifold.net/default/community-detection-using-networkx/\n",
    "https://www.researchgate.net/publication/271472127_Community_structure_in_networks_Girvan-Newman_algorithm_improvement"
   ]
  },
  {
   "cell_type": "markdown",
   "metadata": {},
   "source": [
    "<h1><center>Homework 3</center></h1>\n",
    "\n",
    "<h3>Submission Instructions</h3>\n",
    "<p>\n",
    "For submission, you only need to submit your Jupyter Notebook file named \"StudentName_ID.ipynb\"\n",
    "\n",
    "If you have any questions, you can contact me via kamard@itu.edu.tr\n",
    "</p>\n",
    "\n",
    "<h3> Homework Instructions </h3>\n",
    "\n",
    "<p>In this homework, you will implement Girvan-Newman algorithm, and use the algorithm to decompose the network into a number of modules so that it has the highest modularity. Remember the steps of Girvan-Newman algorithm from Graph Theory Blink 9.3:\n",
    "\n",
    "<ol>\n",
    "  <li>Calculate the betweenness centrality of each edge in graph G</li>\n",
    "  <li>Remove the edge with the highest betweenness centrality. Choose randomly in case same score occurs.</li>\n",
    "  <li>Recalculate the betweenness centrality of all remaining edges</li>\n",
    "  <li>Repeat steps 2 and 3 until no edges remain. </li>\n",
    "</ol>\n",
    "\n",
    "You will need to modify the above steps so that you find the number of connected components that has the highest modularity. To do that, you can calculate modularity each time new connected component is formed during the Girvan-Newman algorithm, and find the decomposition with highest modularity. Don't forget to compute the modularity of the initial network, as network might not consist any modules \n",
    "\n",
    "<h2>WHAT YOU NEED TO DO</h2>\n",
    "<ol>\n",
    "    <li> Read and visualize the given graph adjacency matrix files. Give brief comments about the networks' hiearchy and modularity <b>(20p)</b>\n",
    "    <li> Implement the Girvan-Newman algorithm: Write a function that uses Girvan-Newman algorithm to find the number of connected components that gives the highest modularity. In the same function or another function, return the new graph with the number of connected components you have found (basically, remove edges until the number of connected components are equal to the one you found with your algorithm). <b>(60p)</b>\n",
    "    <li>Apply the function on the given networks. Visualize the final results. Assign different colors to each node in the visualization. <b>(10p)</b>\n",
    "    <li> What conclusions can you derive about the networks after you run the algorithm on them and visualize the final result? Give brief comments. <b>(10p)</b>\n",
    "    <li><b>BONUS</b> What are the key differences between Agglomerative Clustering and Divisive Clustering? Which one of these does the Girvan-Newman algorithm belong to? Explain.<b>(3p)</b> \n",
    "\n",
    "Below, I have given you some basic functions to start with. \n",
    "</p>"
   ]
  },
  {
   "cell_type": "code",
   "execution_count": 1,
   "metadata": {},
   "outputs": [],
   "source": [
    "import networkx.algorithms.community as nx_comm\n",
    "import networkx as nx\n",
    "import matplotlib.pyplot as plt\n",
    "import numpy as np\n",
    "\n",
    "from operator import itemgetter\n",
    "from os.path import join"
   ]
  },
  {
   "cell_type": "code",
   "execution_count": 11,
   "metadata": {},
   "outputs": [],
   "source": [
    "def RandGraph(n:int=10, p:float=0.5) -> (np.ndarray, nx.Graph):\n",
    "    '''\n",
    "    Creates a random networkx undirected, unweighted graph\n",
    "    \n",
    "    Inputs:\n",
    "        n: number of nodes in graph\n",
    "        p: probability of an edge being included\n",
    "        \n",
    "    Outputs:\n",
    "        adj: Adjacency matrix as numpy array\n",
    "        G  : networkx Graph        \n",
    "    '''\n",
    "    adj = np.random.random((n, n))\n",
    "    adj = np.maximum(adj, adj.T)\n",
    "    adj = np.where(adj < p, 1, 0)\n",
    "    np.fill_diagonal(adj, 0)\n",
    "    G   = nx.from_numpy_array(adj, create_using=nx.Graph)\n",
    "    return adj, G\n",
    "\n",
    "def GirvanNewmanAlgo(G:nx.Graph) -> set:\n",
    "    dummy = G.copy()\n",
    "    bestQ = 0\n",
    "    \n",
    "    while dummy.number_of_edges() != 0:\n",
    "        init_ncomp  = nx.number_connected_components(dummy)\n",
    "        edge, score = max(nx.edge_betweenness_centrality(dummy).items(), key=itemgetter(1))\n",
    "        dummy.remove_edge(*edge)\n",
    "        ncomp       = nx.number_connected_components(dummy)\n",
    "        \n",
    "        if ncomp <= init_ncomp:\n",
    "            comms   = nx_comm.label_propagation_communities(dummy)\n",
    "            Q       = nx_comm.modularity(dummy, comms)\n",
    "            if bestQ < Q: bestComps = nx.connected_components(dummy)\n",
    "                \n",
    "    return bestComps\n",
    "\n",
    "def VisualizeGraph(G):\n",
    "    fig = plt.figure(figsize=(13, 8), facecolor='red')\n",
    "    nx.draw_networkx(G)    \n",
    "    plt.show()\n",
    "    \n",
    "def ReadyData(dirPath):\n",
    "    fname1 = join(dirPath, 'NetworkData1.npy')\n",
    "    fname2 = join(dirPath, 'NetworkData2.npy')\n",
    "    fname3 = join(dirPath, 'NetworkData3.npy')\n",
    "    \n",
    "    adj1  = np.load(fname1); G1 = nx.from_numpy_array(adj1, create_using=nx.Graph)\n",
    "    adj2  = np.load(fname2); G2 = nx.from_numpy_array(adj2, create_using=nx.Graph)\n",
    "    adj3  = np.load(fname3); G3 = nx.from_numpy_array(adj3, create_using=nx.Graph)\n",
    "    \n",
    "    return (adj1, G1), (adj2, G2), (adj3, G3)"
   ]
  },
  {
   "cell_type": "code",
   "execution_count": 28,
   "metadata": {},
   "outputs": [
    {
     "data": {
      "image/png": "[encoded data removed]",
      "text/plain": [
       "<Figure size 1080x576 with 3 Axes>"
      ]
     },
     "metadata": {
      "needs_background": "light"
     },
     "output_type": "display_data"
    }
   ],
   "source": [
    "dirPath = 'C:/Users/Dell/Documents/DenizScripts/python/HW3/'\n",
    "(adj1, G1), (adj2, G2), (adj3, G3) = ReadyData(dirPath)\n",
    "fig = plt.figure(figsize=(15,8))\n",
    "plt.subplot(131).matshow(adj1,cmap='bone')\n",
    "plt.subplot(132).matshow(adj2,cmap='bone')\n",
    "plt.subplot(133).matshow(adj3,cmap='bone')\n",
    "plt.tight_layout()\n",
    "plt.show()"
   ]
  },
  {
   "cell_type": "code",
   "execution_count": 13,
   "metadata": {},
   "outputs": [],
   "source": [
    "comms = GirvanNewmanAlgo(G2)"
   ]
  },
  {
   "cell_type": "code",
   "execution_count": 14,
   "metadata": {},
   "outputs": [
    {
     "data": {
      "text/plain": [
       "[{0},\n",
       " {1},\n",
       " {2},\n",
       " {3},\n",
       " {4},\n",
       " {5},\n",
       " {6},\n",
       " {7},\n",
       " {8},\n",
       " {9},\n",
       " {10},\n",
       " {11},\n",
       " {12},\n",
       " {13},\n",
       " {14},\n",
       " {15},\n",
       " {16},\n",
       " {17},\n",
       " {18},\n",
       " {19},\n",
       " {20},\n",
       " {21},\n",
       " {22},\n",
       " {23},\n",
       " {24},\n",
       " {25},\n",
       " {26},\n",
       " {27},\n",
       " {28},\n",
       " {29},\n",
       " {30},\n",
       " {31},\n",
       " {32},\n",
       " {33},\n",
       " {34},\n",
       " {35},\n",
       " {36},\n",
       " {37},\n",
       " {38},\n",
       " {39}]"
      ]
     },
     "execution_count": 14,
     "metadata": {},
     "output_type": "execute_result"
    }
   ],
   "source": [
    "[*comms]"
   ]
  },
  {
   "cell_type": "markdown",
   "metadata": {},
   "source": [
    "You can use RandomGraph function to create a random graph that returns the graph as both networkx.Graph and adjacency matrix as numpy.array.\n",
    "\n",
    "(Optional, will not affect your grade) You can modify the VisualiseGraph function to give each connected component different graph, or make other interesting visualizations. Play with it however you want!"
   ]
  },
  {
   "cell_type": "code",
   "execution_count": 72,
   "metadata": {},
   "outputs": [
    {
     "data": {
      "image/png": "[encoded data removed]",
      "text/plain": [
       "<Figure size 432x288 with 1 Axes>"
      ]
     },
     "metadata": {},
     "output_type": "display_data"
    }
   ],
   "source": [
    "n = 10\n",
    "p = 0.5\n",
    "adj, G = RandGraph(n, p)\n",
    "VisualizeGraph(G)"
   ]
  },
  {
   "cell_type": "markdown",
   "metadata": {},
   "source": [
    "## You can start from here.\n",
    "\n",
    "Implement all your codes and write all your comments below this cell. \n",
    "\n",
    "For the algorithm; you are only allowed to use networkx to compute <b>modularity, connected components and betwenness centralities.</b> You need to implement Girvan-Nerman and rest of the algorithm by yourself. "
   ]
  },
  {
   "cell_type": "code",
   "execution_count": null,
   "metadata": {},
   "outputs": [],
   "source": []
  }
 ],
 "metadata": {
  "kernelspec": {
   "display_name": "Python 3 (ipykernel)",
   "language": "python",
   "name": "python3"
  },
  "language_info": {
   "codemirror_mode": {
    "name": "ipython",
    "version": 3
   },
   "file_extension": ".py",
   "mimetype": "text/x-python",
   "name": "python",
   "nbconvert_exporter": "python",
   "pygments_lexer": "ipython3",
   "version": "3.9.5"
  }
 },
 "nbformat": 4,
 "nbformat_minor": 4
}
