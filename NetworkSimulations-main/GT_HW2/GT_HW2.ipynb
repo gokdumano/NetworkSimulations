{
 "cells": [
  {
   "cell_type": "code",
   "execution_count": 1,
   "id": "98dd4f93",
   "metadata": {},
   "outputs": [
    {
     "name": "stdout",
     "output_type": "stream",
     "text": [
      "3.9.7 (default, Sep 16 2021, 13:09:58) \n",
      "[GCC 7.5.0]\n"
     ]
    }
   ],
   "source": [
    "from itertools import repeat, product\n",
    "from collections import defaultdict\n",
    "from sys import version\n",
    "print(version)\n",
    "\n",
    "def read(fname):\n",
    "    from scipy.io import loadmat\n",
    "    file = loadmat(fname)\n",
    "    arr  = file['A']\n",
    "    return arr\n",
    "\n",
    "def AdjDecomposition(adj):\n",
    "    num, _ = adj.shape\n",
    "    nodes  = {*range(num)}\n",
    "    edges  = {(u, v, adj[u, v]) for u, v in product(nodes, repeat=2) if adj[u, v] != 0}\n",
    "    return {'nodes':nodes, 'edges':edges}"
   ]
  },
  {
   "cell_type": "markdown",
   "id": "f54392f6",
   "metadata": {},
   "source": [
    "**1. Bellman-Ford shortest path algorithm [20%]**"
   ]
  },
  {
   "cell_type": "code",
   "execution_count": 2,
   "id": "e2a5f41d",
   "metadata": {},
   "outputs": [],
   "source": [
    "def BellmanFordAlgo(G, S):\n",
    "    V, E = AdjDecomposition(G).values()\n",
    "    assert S in V, f'The graph does not have the starting vertex `{S}`'\n",
    "    \n",
    "    # Step 1: initialize graph\n",
    "    D = {v: (float('inf'), None) if v != S else (0, None) for v in V}\n",
    "    C = len(V) - 1\n",
    "    \n",
    "    #Step 2: relax edges repeatedly\n",
    "    for _ in repeat(None, C):\n",
    "        for (e1, e2, w) in E:\n",
    "            (d1, _), (d2, _) = D[e1], D[e2]\n",
    "            if d2 > d1 + w: D[e2] = (d1 + w, e1)\n",
    "                \n",
    "    # Step 3: check for negative-weight cycles\n",
    "    for (e1, e2, w) in E:\n",
    "        (d1, _), (d2, _) = D[e1], D[e2]\n",
    "        if d2 > d1 + w: raise ValueError('Graph contains negative weight cycle')    \n",
    "    \n",
    "    return D"
   ]
  },
  {
   "attachments": {
    "Exercise_1_graph.png": {
     "image/png": "[encoded data removed]"
    }
   },
   "cell_type": "markdown",
   "id": "8ab0925e",
   "metadata": {},
   "source": [
    "![Exercise_1_graph.png](attachment:Exercise_1_graph.png)"
   ]
  },
  {
   "cell_type": "code",
   "execution_count": 3,
   "id": "0e4587f3",
   "metadata": {},
   "outputs": [
    {
     "name": "stdout",
     "output_type": "stream",
     "text": [
      "╒════════╤══════╤══════╤══════╕\n",
      "│   FROM │   TO │   SP │   PV │\n",
      "╞════════╪══════╪══════╪══════╡\n",
      "│      4 │    0 │  inf │      │\n",
      "├────────┼──────┼──────┼──────┤\n",
      "│      4 │    1 │   -3 │    5 │\n",
      "├────────┼──────┼──────┼──────┤\n",
      "│      4 │    2 │  inf │      │\n",
      "├────────┼──────┼──────┼──────┤\n",
      "│      4 │    3 │    1 │    1 │\n",
      "├────────┼──────┼──────┼──────┤\n",
      "│      4 │    4 │    0 │      │\n",
      "├────────┼──────┼──────┼──────┤\n",
      "│      4 │    5 │   -1 │    4 │\n",
      "╘════════╧══════╧══════╧══════╛\n"
     ]
    }
   ],
   "source": [
    "adj = read('Exercise_1_data/adjacencyMatrix.mat')\n",
    "src = 4\n",
    "res = BellmanFordAlgo(adj, src)\n",
    "\n",
    "from tabulate import tabulate\n",
    "# SP: Shortest path length\n",
    "# PV: Previous vertex\n",
    "print(tabulate([(src, dst, dist, prev) for dst, (dist, prev) in res.items()], \n",
    "               ['FROM', 'TO', 'SP', 'PV'], tablefmt='fancy_grid'))"
   ]
  },
  {
   "cell_type": "markdown",
   "id": "4996b395",
   "metadata": {},
   "source": [
    "**2. Global effciency, diffusion effciency and graph morphospace [40%]**"
   ]
  },
  {
   "cell_type": "code",
   "execution_count": 10,
   "id": "68c2e993",
   "metadata": {},
   "outputs": [],
   "source": [
    "def globalEffciency(W):\n",
    "    V, E  = AdjDecomposition(W).values()\n",
    "    N     = len(V)\n",
    "    Eglob = sum([1 / w for (e1, e2, w) in E if e1 != e2]) / (N ** 2 - N)\n",
    "    return Eglob\n",
    "\n",
    "def diffusionEfficiency(W):\n",
    "    V, E = AdjDecomposition(W).values()\n",
    "    P    = W / W.sum(axis=1).reshape(-1,1)\n",
    "    # https://gtagency.github.io/lectures\n",
    "    # https://graphonline.ru/en/#"
   ]
  },
  {
   "cell_type": "code",
   "execution_count": 20,
   "id": "266d02b5",
   "metadata": {},
   "outputs": [
    {
     "name": "stdout",
     "output_type": "stream",
     "text": [
      "[[ 0.    0.33  0.67  0.    0.    0.  ]\n",
      " [ 0.    0.    0.    1.    0.    0.  ]\n",
      " [ 0.    0.    0.    0.    0.    1.  ]\n",
      " [ 0.    0.    0.    0.    0.75  0.25]\n",
      " [-0.   -0.   -0.   -0.   -0.    1.  ]\n",
      " [-0.    1.   -0.   -0.   -0.   -0.  ]]\n"
     ]
    }
   ],
   "source": [
    "import numpy as np\n",
    "with np.printoptions(precision=2):\n",
    "    print(adj / adj.sum(axis=1).reshape(-1,1))"
   ]
  },
  {
   "cell_type": "code",
   "execution_count": 9,
   "id": "b1debc7d",
   "metadata": {},
   "outputs": [
    {
     "data": {
      "text/plain": [
       "array([3, 3, 5, 8, 2, 1])"
      ]
     },
     "execution_count": 9,
     "metadata": {},
     "output_type": "execute_result"
    }
   ],
   "source": [
    "adj.sum(axis=0) + adj.sum(axis=1)"
   ]
  },
  {
   "cell_type": "code",
   "execution_count": 7,
   "id": "2c588f55",
   "metadata": {},
   "outputs": [
    {
     "data": {
      "text/plain": [
       "array([ 3,  4,  3,  4, -1, -2])"
      ]
     },
     "execution_count": 7,
     "metadata": {},
     "output_type": "execute_result"
    }
   ],
   "source": []
  },
  {
   "cell_type": "code",
   "execution_count": 8,
   "id": "892994e7",
   "metadata": {},
   "outputs": [
    {
     "data": {
      "text/plain": [
       "array([[ 0,  1,  2,  0,  0,  0],\n",
       "       [ 0,  0,  0,  4,  0,  0],\n",
       "       [ 0,  0,  0,  0,  0,  3],\n",
       "       [ 0,  0,  0,  0,  3,  1],\n",
       "       [ 0,  0,  0,  0,  0, -1],\n",
       "       [ 0, -2,  0,  0,  0,  0]], dtype=int16)"
      ]
     },
     "execution_count": 8,
     "metadata": {},
     "output_type": "execute_result"
    }
   ],
   "source": [
    "adj"
   ]
  },
  {
   "cell_type": "code",
   "execution_count": null,
   "id": "3bb395da",
   "metadata": {},
   "outputs": [],
   "source": []
  }
 ],
 "metadata": {
  "kernelspec": {
   "display_name": "Python 3 (ipykernel)",
   "language": "python",
   "name": "python3"
  },
  "language_info": {
   "codemirror_mode": {
    "name": "ipython",
    "version": 3
   },
   "file_extension": ".py",
   "mimetype": "text/x-python",
   "name": "python",
   "nbconvert_exporter": "python",
   "pygments_lexer": "ipython3",
   "version": "3.9.7"
  }
 },
 "nbformat": 4,
 "nbformat_minor": 5
}
